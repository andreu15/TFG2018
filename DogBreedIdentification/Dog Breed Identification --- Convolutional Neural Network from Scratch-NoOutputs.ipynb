{
 "cells": [
  {
   "cell_type": "code",
   "execution_count": 2,
   "metadata": {},
   "outputs": [
    {
     "data": {
      "text/html": [
       "\n",
       "<!-- Just run this cell to provide style to the notebook-->\n",
       "<!-- This is a code to add style to the notebook, it is based on a .css on GitHub http://bit.ly/1Bf5Hft -->\n",
       "\n",
       "<style>\n",
       "\n",
       "html {\n",
       "  font-size: 62.5% !important; }\n",
       "body {\n",
       "  font-size: 1.5em !important; /* currently ems cause chrome bug misinterpreting rems on body element */\n",
       "  line-height: 1.6 !important;\n",
       "  font-weight: 400 !important;\n",
       "  font-family: \"Raleway\", \"HelveticaNeue\", \"Helvetica Neue\", Helvetica, Arial, sans-serif !important;\n",
       "  color: #222 !important; }\n",
       "\n",
       "div{ border-radius: 0px !important;  }\n",
       "div.CodeMirror-sizer{ background: rgb(244, 244, 248) !important; }\n",
       "div.input_area{ background: rgb(244, 244, 248) !important; }\n",
       "\n",
       "div.out_prompt_overlay:hover{ background: rgb(244, 244, 248) !important; }\n",
       "div.input_prompt:hover{ background: rgb(244, 244, 248) !important; }\n",
       "\n",
       "h1, h2, h3, h4, h5, h6 {\n",
       "  color: #333 !important;\n",
       "  margin-top: 0 !important;\n",
       "  margin-bottom: 2rem !important;\n",
       "  font-weight: 300 !important;\n",
       "    text-decoration: underline;\n",
       "}\n",
       "h1 { font-size: 4.0rem !important; line-height: 1.2 !important;  letter-spacing: -.1rem !important;}\n",
       "h2 { font-size: 3.6rem !important; line-height: 1.25 !important; letter-spacing: -.1rem !important; }\n",
       "h3 { font-size: 3.0rem !important; line-height: 1.3 !important;  letter-spacing: -.1rem !important; }\n",
       "h4 { font-size: 2.4rem !important; line-height: 1.35 !important; letter-spacing: -.08rem !important; }\n",
       "h5 { font-size: 1.8rem !important; line-height: 1.5 !important;  letter-spacing: -.05rem !important; }\n",
       "h6 { font-size: 1.5rem !important; line-height: 1.6 !important;  letter-spacing: 0 !important; }\n",
       "    \n",
       "@media (min-width: 550px) {\n",
       "  h1 { font-size: 5.0rem !important; }\n",
       "  h2 { font-size: 4.2rem !important; }\n",
       "  h3 { font-size: 3.6rem !important; }\n",
       "  h4 { font-size: 3.0rem !important; }\n",
       "  h5 { font-size: 2.4rem !important; }\n",
       "  h6 { font-size: 1.5rem !important; }\n",
       "}\n",
       "\n",
       "p {\n",
       "    margin-top: 0 !important;\n",
       "    margin-bottom: 1rem !important;\n",
       "    text-align: justify;\n",
       "    text-justify: inter-word;\n",
       "    line-height: 1.5 !important;\n",
       "    font-size: 1.2em !important;\n",
       "    font-family: \"Raleway\", \"HelveticaNeue\", \"Helvetica Neue\", Helvetica, Arial, sans-serif !important;\n",
       "}\n",
       "  \n",
       "a {\n",
       "  color: #1EAEDB !important; }\n",
       "a:hover {\n",
       "  color: #0FA0CE !important; }\n",
       "  \n",
       "code {\n",
       "  padding: .2rem .5rem !important;\n",
       "  margin: 0 .2rem !important;\n",
       "  font-size: 90% !important;\n",
       "  white-space: nowrap !important;\n",
       "  background: #F1F1F1 !important;\n",
       "  border: 1px solid #E1E1E1 !important;\n",
       "  border-radius: 4px !important; }\n",
       "pre > code {\n",
       "  display: block !important;\n",
       "  padding: 1rem 1.5rem !important;\n",
       "  white-space: pre !important; }\n",
       "  \n",
       "button{ border-radius: 0px !important; }\n",
       ".navbar-inner{ background-image: none !important;  }\n",
       "select, textarea{ border-radius: 0px !important; }\n",
       "    \n",
       "#Top_Header {\n",
       "    background-image: url(https://lh3.googleusercontent.com/-shldIGCRFdbscyKdAvFOATYt3wRk3SWzxQ-OSLQvvGQQEekDY2nrNYhcTl9nB3gcx_t=w300), url(https://lh3.googleusercontent.com/-shldIGCRFdbscyKdAvFOATYt3wRk3SWzxQ-OSLQvvGQQEekDY2nrNYhcTl9nB3gcx_t=w300);\n",
       "    background-size: contain;\n",
       "    background-repeat: no-repeat;\n",
       "    background-position: left, right;\n",
       "}\n",
       "\n",
       ".output {\n",
       "    display: flex;\n",
       "    align-items: center;\n",
       "    text-align: center;\n",
       "}\n",
       "    \n",
       "</style>\n",
       "    \n",
       "<script> \n",
       "$( document ).ready(function () {\n",
       "    $(\"div#notebook-container\").children().first().hide();\n",
       "});\n",
       "</script>"
      ],
      "text/plain": [
       "<IPython.core.display.HTML object>"
      ]
     },
     "metadata": {},
     "output_type": "display_data"
    }
   ],
   "source": [
    "%%html\n",
    "\n",
    "<!-- Just run this cell to provide style to the notebook-->\n",
    "<!-- This is a code to add style to the notebook, it is based on a .css on GitHub http://bit.ly/1Bf5Hft -->\n",
    "\n",
    "<style>\n",
    "\n",
    "html {\n",
    "  font-size: 62.5% !important; }\n",
    "body {\n",
    "  font-size: 1.5em !important; /* currently ems cause chrome bug misinterpreting rems on body element */\n",
    "  line-height: 1.6 !important;\n",
    "  font-weight: 400 !important;\n",
    "  font-family: \"Raleway\", \"HelveticaNeue\", \"Helvetica Neue\", Helvetica, Arial, sans-serif !important;\n",
    "  color: #222 !important; }\n",
    "\n",
    "div{ border-radius: 0px !important;  }\n",
    "div.CodeMirror-sizer{ background: rgb(244, 244, 248) !important; }\n",
    "div.input_area{ background: rgb(244, 244, 248) !important; }\n",
    "\n",
    "div.out_prompt_overlay:hover{ background: rgb(244, 244, 248) !important; }\n",
    "div.input_prompt:hover{ background: rgb(244, 244, 248) !important; }\n",
    "\n",
    "h1, h2, h3, h4, h5, h6 {\n",
    "  color: #333 !important;\n",
    "  margin-top: 0 !important;\n",
    "  margin-bottom: 2rem !important;\n",
    "  font-weight: 300 !important;\n",
    "    text-decoration: underline;\n",
    "}\n",
    "h1 { font-size: 4.0rem !important; line-height: 1.2 !important;  letter-spacing: -.1rem !important;}\n",
    "h2 { font-size: 3.6rem !important; line-height: 1.25 !important; letter-spacing: -.1rem !important; }\n",
    "h3 { font-size: 3.0rem !important; line-height: 1.3 !important;  letter-spacing: -.1rem !important; }\n",
    "h4 { font-size: 2.4rem !important; line-height: 1.35 !important; letter-spacing: -.08rem !important; }\n",
    "h5 { font-size: 1.8rem !important; line-height: 1.5 !important;  letter-spacing: -.05rem !important; }\n",
    "h6 { font-size: 1.5rem !important; line-height: 1.6 !important;  letter-spacing: 0 !important; }\n",
    "    \n",
    "@media (min-width: 550px) {\n",
    "  h1 { font-size: 5.0rem !important; }\n",
    "  h2 { font-size: 4.2rem !important; }\n",
    "  h3 { font-size: 3.6rem !important; }\n",
    "  h4 { font-size: 3.0rem !important; }\n",
    "  h5 { font-size: 2.4rem !important; }\n",
    "  h6 { font-size: 1.5rem !important; }\n",
    "}\n",
    "\n",
    "p {\n",
    "    margin-top: 0 !important;\n",
    "    margin-bottom: 1rem !important;\n",
    "    text-align: justify;\n",
    "    text-justify: inter-word;\n",
    "    line-height: 1.5 !important;\n",
    "    font-size: 1.2em !important;\n",
    "    font-family: \"Raleway\", \"HelveticaNeue\", \"Helvetica Neue\", Helvetica, Arial, sans-serif !important;\n",
    "}\n",
    "  \n",
    "a {\n",
    "  color: #1EAEDB !important; }\n",
    "a:hover {\n",
    "  color: #0FA0CE !important; }\n",
    "  \n",
    "code {\n",
    "  padding: .2rem .5rem !important;\n",
    "  margin: 0 .2rem !important;\n",
    "  font-size: 90% !important;\n",
    "  white-space: nowrap !important;\n",
    "  background: #F1F1F1 !important;\n",
    "  border: 1px solid #E1E1E1 !important;\n",
    "  border-radius: 4px !important; }\n",
    "pre > code {\n",
    "  display: block !important;\n",
    "  padding: 1rem 1.5rem !important;\n",
    "  white-space: pre !important; }\n",
    "  \n",
    "button{ border-radius: 0px !important; }\n",
    ".navbar-inner{ background-image: none !important;  }\n",
    "select, textarea{ border-radius: 0px !important; }\n",
    "    \n",
    "#Top_Header {\n",
    "    background-image: url(https://lh3.googleusercontent.com/-shldIGCRFdbscyKdAvFOATYt3wRk3SWzxQ-OSLQvvGQQEekDY2nrNYhcTl9nB3gcx_t=w300), url(https://lh3.googleusercontent.com/-shldIGCRFdbscyKdAvFOATYt3wRk3SWzxQ-OSLQvvGQQEekDY2nrNYhcTl9nB3gcx_t=w300);\n",
    "    background-size: contain;\n",
    "    background-repeat: no-repeat;\n",
    "    background-position: left, right;\n",
    "}\n",
    "\n",
    ".output {\n",
    "    display: flex;\n",
    "    align-items: center;\n",
    "    text-align: center;\n",
    "}\n",
    "    \n",
    "</style>\n",
    "    \n",
    "<script> \n",
    "$( document ).ready(function () {\n",
    "    $(\"div#notebook-container\").children().first().hide();\n",
    "});\n",
    "</script>"
   ]
  },
  {
   "cell_type": "code",
   "execution_count": 1,
   "metadata": {},
   "outputs": [
    {
     "data": {
      "application/javascript": [
       "//Execute this code to show the styling of the document\n",
       "$(\"div#notebook-container\").children().first().show();"
      ],
      "text/plain": [
       "<IPython.core.display.Javascript object>"
      ]
     },
     "metadata": {},
     "output_type": "display_data"
    }
   ],
   "source": [
    "%%javascript\n",
    "//Execute this code to show the styling of the document\n",
    "$(\"div#notebook-container\").children().first().show();"
   ]
  },
  {
   "cell_type": "markdown",
   "metadata": {},
   "source": [
    "<div id=\"Top_Header\">\n",
    "    <center>\n",
    "        <h1>Dog Breed Identification</h1>\n",
    "        <h3>Deep Learning: CNN from Scratch</h3>\n",
    "        <h6>Andreu Masdeu - <i>TFG 2018</i></h6>\n",
    "    </center>\n",
    "</div>"
   ]
  },
  {
   "cell_type": "markdown",
   "metadata": {},
   "source": [
    "<div id=\"Introduction\">\n",
    "    <h2>Introduction</h2>\n",
    "    <p>This notebook is an approach to the <i>Kaggle</i> competition <strong><a href=\"https://www.kaggle.com/c/dog-breed-identification\">Dog Breed Identification</a></strong> using <i>Convolutional Neural Networks</i>.\n",
    "    </p>\n",
    "    <p>This is not the ideal approach since we would need a huge dataset and computional power. But it will be a good example for comparing performances with the Transfer Learning notebook. </p>\n",
    "</div>"
   ]
  },
  {
   "cell_type": "markdown",
   "metadata": {},
   "source": [
    "<h1> Importing </h1>"
   ]
  },
  {
   "cell_type": "markdown",
   "metadata": {},
   "source": [
    "<p> We import pandas, numpy, keras and some of its layers and methods, required for defining the network architecture. Furthermore, we import cv2, a powerful package useful for image processing and computer vision. </p>"
   ]
  },
  {
   "cell_type": "code",
   "execution_count": null,
   "metadata": {},
   "outputs": [],
   "source": [
    "import pandas as pd\n",
    "import numpy as np\n",
    "\n",
    "import keras\n",
    "from keras.models import Model, Sequential\n",
    "from keras.layers import Dense, Embedding, Input, Conv2D, MaxPooling2D, Flatten, Dropout, LeakyReLU\n",
    "from keras.callbacks import EarlyStopping, ModelCheckpoint\n",
    "from keras.layers.normalization import BatchNormalization\n",
    "\n",
    "\n",
    "import plotly.offline as py\n",
    "import plotly.graph_objs as go\n",
    "py.init_notebook_mode()\n",
    "import matplotlib.pyplot as plt\n",
    "\n",
    "from sklearn.model_selection import train_test_split\n",
    "import cv2\n",
    "from tqdm import tqdm\n",
    "import time\n",
    "import random"
   ]
  },
  {
   "cell_type": "markdown",
   "metadata": {},
   "source": [
    "<h1> Auxiliar functions </h1>"
   ]
  },
  {
   "cell_type": "markdown",
   "metadata": {},
   "source": [
    "<p> This cell includes useful functions. Get_pixels transforms a picture into an array of numbers with the desired dimension. Normalize, as its name suggests, normalizes those arrays into an interval [0,1]. Finally, show_image creates a window showing the picture given and it is useful to see differences between normalized and normal pictures. </p>"
   ]
  },
  {
   "cell_type": "code",
   "execution_count": null,
   "metadata": {},
   "outputs": [],
   "source": [
    "def get_pixels(dim, path ):\n",
    "    image = cv2.imread(path, 1)\n",
    "    resized = cv2.resize(image, (dim, dim))\n",
    "    return resized\n",
    "\n",
    "def show_image(img, dim=224):\n",
    "    #img = img.reshape((dim,dim,3))\n",
    "    plt.imshow(img, cmap='gray')\n",
    "    plt.show()\n",
    "\n",
    "def normalize(img):\n",
    "    img  = img/255\n",
    "    return np.array(img, dtype= 'float32')"
   ]
  },
  {
   "cell_type": "markdown",
   "metadata": {},
   "source": [
    "# Paths and labels"
   ]
  },
  {
   "cell_type": "markdown",
   "metadata": {},
   "source": [
    "Labels for each photo are contained in a csv file. The following lines store in a pandas dataframe the root path and label for each picture."
   ]
  },
  {
   "cell_type": "code",
   "execution_count": null,
   "metadata": {},
   "outputs": [],
   "source": [
    "trainfolder = \"train/train/\"\n",
    "paths_labels = pd.read_csv('labels.csv/labels.csv')\n",
    "paths_labels['image_path'] = paths_labels.apply(lambda x: (trainfolder + x[\"id\"] + \".jpg\" ), axis=1)"
   ]
  },
  {
   "cell_type": "markdown",
   "metadata": {},
   "source": [
    "# Load Data"
   ]
  },
  {
   "cell_type": "code",
   "execution_count": null,
   "metadata": {},
   "outputs": [],
   "source": [
    "DIM = int(input(\"Write the number of pixels desired \"))"
   ]
  },
  {
   "cell_type": "code",
   "execution_count": null,
   "metadata": {},
   "outputs": [],
   "source": [
    "lst = []\n",
    "for path in tqdm(paths_labels['image_path']):\n",
    "    lst.append(normalize(get_pixels(DIM,path)))\n",
    "    \n",
    "\n",
    "labels = pd.get_dummies(paths_labels, columns=['breed'])"
   ]
  },
  {
   "cell_type": "code",
   "execution_count": null,
   "metadata": {},
   "outputs": [],
   "source": [
    "data = np.array(lst)\n",
    "del lst"
   ]
  },
  {
   "cell_type": "code",
   "execution_count": null,
   "metadata": {},
   "outputs": [],
   "source": [
    "dropped = []\n",
    "for i in range(0,2):\n",
    "    dropped.append(labels.columns[i])\n",
    "    \n",
    "labels = labels.drop(dropped, axis=1, inplace=False)"
   ]
  },
  {
   "cell_type": "code",
   "execution_count": null,
   "metadata": {},
   "outputs": [],
   "source": [
    "dic = {}\n",
    "num_classes = len(labels.columns)\n",
    "for i in range(0, num_classes-1):\n",
    "    l = list(labels.columns[i])\n",
    "    l[0:6] = []\n",
    "    elem2 = \"\".join(l)\n",
    "    dic[labels.columns[i]] = elem2\n",
    "    \n",
    "labels = labels.rename(dic, axis = \"columns\")\n",
    "dogs_list = labels.columns"
   ]
  },
  {
   "cell_type": "code",
   "execution_count": null,
   "metadata": {},
   "outputs": [],
   "source": [
    "labels = labels.values"
   ]
  },
  {
   "cell_type": "markdown",
   "metadata": {},
   "source": [
    "# Dataset distribution"
   ]
  },
  {
   "cell_type": "code",
   "execution_count": null,
   "metadata": {},
   "outputs": [],
   "source": [
    "num_for_breed = [0 for x in dogs_list]\n",
    "for label in labels:\n",
    "    num_for_breed[label.argmax()] += 1"
   ]
  },
  {
   "cell_type": "code",
   "execution_count": null,
   "metadata": {},
   "outputs": [],
   "source": [
    "trace0 = go.Bar(\n",
    "    x=dogs_list,\n",
    "    y=num_for_breed,\n",
    "    marker=dict(\n",
    "        color='rgb(158,202,225)',\n",
    "        line=dict(\n",
    "            color='rgb(8,48,107)',\n",
    "            width=1.5,\n",
    "        )\n",
    "    ),\n",
    "    opacity=0.6\n",
    ")\n",
    "\n",
    "data_plot = [trace0]\n",
    "layout = go.Layout(\n",
    "    title='Breed distribution',\n",
    ")\n",
    "\n",
    "fig = go.Figure(data=data_plot, layout=layout)\n",
    "py.iplot(fig, filename='text-hover-bar')"
   ]
  },
  {
   "cell_type": "markdown",
   "metadata": {},
   "source": [
    "<h1> Neural Network architecture </h1>"
   ]
  },
  {
   "cell_type": "markdown",
   "metadata": {},
   "source": [
    "<p> Here we define our architecture. We opted for 3 convolutional layers with leaky relu activation, each one of them followed with a pooling layer and dropout. Finally, an undefined number of fully connected layers and the output layer complete the structure. For the hidden layers we use leaky relu as activation, but for the output we use softmax. We will predict a probability for each class and we want probabilities to sum 1. </p>\n",
    "\n",
    "<p> Then, we compile this model using categorical cross entropy as the loss function, and we return it by calling conv_model().<p>\n",
    "    \n",
    "<p> This is rather a simple method, compared to the ones used in the transfer learning notebook. <p>"
   ]
  },
  {
   "cell_type": "code",
   "execution_count": null,
   "metadata": {},
   "outputs": [],
   "source": [
    "def conv_model( nhid = 3, strides = 1, kernel = 3, drop = 0.5, drop2 = 0, alpha = 0.05 ):\n",
    "    model = Sequential()\n",
    "    \n",
    "    #First Conv Layer\n",
    "    \n",
    "    model.add(Conv2D(input_shape = (DIM,DIM,3) , filters=32, kernel_size=kernel, strides = strides ))\n",
    "    model.add(LeakyReLU(alpha=alpha))\n",
    "\n",
    "    model.add(MaxPooling2D(pool_size=2))\n",
    "    \n",
    "    model.add(Dropout(drop))\n",
    "    \n",
    "    #Second Conv Layer\n",
    "    \n",
    "    model.add(Conv2D(filters=32, kernel_size=kernel, strides = strides ))\n",
    "    model.add(LeakyReLU(alpha=alpha))\n",
    "\n",
    "    model.add(MaxPooling2D(pool_size=2))\n",
    "    \n",
    "    model.add(Dropout(drop))\n",
    "    \n",
    "    #Third Conv Layer\n",
    "    \n",
    "    model.add(Conv2D(filters=64, kernel_size=kernel, strides = strides ))\n",
    "    model.add(LeakyReLU(alpha=alpha))\n",
    "\n",
    "    model.add(MaxPooling2D(pool_size=2))\n",
    "    \n",
    "    #Fourth Conv Layer\n",
    "    \n",
    "    model.add(Conv2D(filters=128, kernel_size=kernel, strides = strides ))\n",
    "    model.add(LeakyReLU(alpha=alpha))\n",
    "\n",
    "    model.add(MaxPooling2D(pool_size=2))\n",
    "    \n",
    "     #Fifth Conv Layer\n",
    "    \n",
    "    model.add(Conv2D(filters=128, kernel_size=kernel, strides = strides ))\n",
    "    model.add(LeakyReLU(alpha=alpha))\n",
    "\n",
    "    model.add(MaxPooling2D(pool_size=2))\n",
    "    \n",
    "    model.add(Flatten())\n",
    "    \n",
    "    #Fully connected layers\n",
    "    \n",
    "    for i in range(0,nhid):\n",
    "        model.add(Dense(int(256/(2 ** i))))\n",
    "        model.add(LeakyReLU(alpha = alpha))\n",
    "        model.add(BatchNormalization())\n",
    "        model.add(Dropout(drop2))\n",
    "\n",
    "    model.add(Dense(120, activation = 'softmax'))\n",
    "    model.compile(optimizer='adam', loss='categorical_crossentropy', metrics = ['accuracy'])\n",
    "    return model"
   ]
  },
  {
   "cell_type": "code",
   "execution_count": null,
   "metadata": {},
   "outputs": [],
   "source": [
    "model = conv_model(nhid = 1, drop = 0.0, drop2  = 0.0)"
   ]
  },
  {
   "cell_type": "code",
   "execution_count": null,
   "metadata": {},
   "outputs": [],
   "source": [
    "model.summary()"
   ]
  },
  {
   "cell_type": "markdown",
   "metadata": {},
   "source": [
    "<h1> Training </h1>"
   ]
  },
  {
   "cell_type": "markdown",
   "metadata": {},
   "source": [
    "<p> The following cells implement the training process. Using the method .fit on the model and setting hyperparameters for the training, as the number of epochs and batch sizes, keras starts the backpropagation and gradient descent optimization. Before that, we implemented the dataset split using the train_test_split function from sklearn. It creates a random split setting aside a 10% of the pictures.</p>"
   ]
  },
  {
   "cell_type": "code",
   "execution_count": null,
   "metadata": {},
   "outputs": [],
   "source": [
    "data_train, data_test, labels_train, labels_test = train_test_split(data, labels, test_size=0.1, shuffle = True)"
   ]
  },
  {
   "cell_type": "code",
   "execution_count": null,
   "metadata": {},
   "outputs": [],
   "source": [
    "history = model.fit(data_train, labels_train, batch_size = 32, epochs = 20, callbacks = [], \n",
    "                    validation_data = (data_test, labels_test), verbose = 2)"
   ]
  },
  {
   "cell_type": "markdown",
   "metadata": {},
   "source": [
    "<h1> Validation </h1>"
   ]
  },
  {
   "cell_type": "markdown",
   "metadata": {},
   "source": [
    "A straightforward way of checking our model's performance is by plotting accuracy and loss values."
   ]
  },
  {
   "cell_type": "code",
   "execution_count": null,
   "metadata": {},
   "outputs": [],
   "source": [
    "y_axis1 = history.history['acc']\n",
    "y_axis2 = history.history['val_acc']\n",
    "y_axis3 = history.history['loss']\n",
    "y_axis4 = history.history['val_loss']\n",
    "x_axis = list(range(1,21))"
   ]
  },
  {
   "cell_type": "code",
   "execution_count": null,
   "metadata": {},
   "outputs": [],
   "source": [
    "trace1 = go.Scatter(x = x_axis, y = y_axis1, mode = 'lines+markers', name = 'Training accuracy')\n",
    "\n",
    "trace2 = go.Scatter(x = x_axis, y = y_axis2, mode = 'lines+markers', name = 'Validation accuracy')\n",
    "\n",
    "data1 = [trace1, trace2]\n",
    "\n",
    "py.iplot(data1, filename='basic-line')"
   ]
  },
  {
   "cell_type": "code",
   "execution_count": null,
   "metadata": {},
   "outputs": [],
   "source": [
    "trace2 = go.Scatter(x = x_axis, y = y_axis3, mode = 'lines+markers', name = 'Training loss')\n",
    "\n",
    "trace3 = go.Scatter(x = x_axis, y = y_axis4, mode = 'lines+markers', name = 'Validation loss')\n",
    "\n",
    "data2 = [trace2, trace3]\n",
    "\n",
    "py.iplot(data2, filename='basic-line')"
   ]
  }
 ],
 "metadata": {
  "kernelspec": {
   "display_name": "Python 3",
   "language": "python",
   "name": "python3"
  },
  "language_info": {
   "codemirror_mode": {
    "name": "ipython",
    "version": 3
   },
   "file_extension": ".py",
   "mimetype": "text/x-python",
   "name": "python",
   "nbconvert_exporter": "python",
   "pygments_lexer": "ipython3",
   "version": "3.6.5"
  }
 },
 "nbformat": 4,
 "nbformat_minor": 2
}
